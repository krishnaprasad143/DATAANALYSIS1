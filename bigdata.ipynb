{
  "nbformat": 4,
  "nbformat_minor": 0,
  "metadata": {
    "colab": {
      "provenance": []
    },
    "kernelspec": {
      "name": "python3",
      "display_name": "Python 3"
    },
    "language_info": {
      "name": "python"
    }
  },
  "cells": [
    {
      "cell_type": "code",
      "execution_count": null,
      "metadata": {
        "colab": {
          "base_uri": "https://localhost:8080/"
        },
        "id": "odFn00_1GmTb",
        "outputId": "efe7c3d0-c583-4f95-8a1c-71e201e589c8"
      },
      "outputs": [
        {
          "output_type": "stream",
          "name": "stdout",
          "text": [
            "volume of data: 10000\n"
          ]
        }
      ],
      "source": [
        "import pandas as pd\n",
        "import numpy as np\n",
        "#generate a large volume of random data(eg. 1 millon data points)\n",
        "volume_data = pd.read_csv('/content/drive/MyDrive/prasadproject.csv', delimiter=',')\n",
        "print(\"volume of data:\",len(volume_data))\n"
      ]
    },
    {
      "cell_type": "code",
      "source": [
        "import time\n",
        "#simulate streaming data every second for 10 seconds\n",
        "velocity_data = pd.read_csv('/content/drive/MyDrive/prasadproject.csv', sep =',')\n",
        "for i in range(10):\n",
        "  velocity_data=np.random.rand( )#generate random data\n",
        "  print(\"velocity data point:\",velocity_data)\n",
        "  time.sleep(1)#wait for 1 second to simulate real-time data stream"
      ],
      "metadata": {
        "colab": {
          "base_uri": "https://localhost:8080/"
        },
        "id": "d0MEbrJJHFCg",
        "outputId": "372d0d73-ccf7-484a-8804-0fb704241687"
      },
      "execution_count": null,
      "outputs": [
        {
          "output_type": "stream",
          "name": "stdout",
          "text": [
            "velocity data point: 0.9965627744316606\n",
            "velocity data point: 0.8075972551015554\n",
            "velocity data point: 0.6090586369524309\n",
            "velocity data point: 0.8175497091584618\n",
            "velocity data point: 0.16219894738818963\n",
            "velocity data point: 0.29656138123231235\n",
            "velocity data point: 0.247180796766706\n",
            "velocity data point: 0.7263144000741351\n",
            "velocity data point: 0.7055128296844717\n",
            "velocity data point: 0.2357268341798402\n"
          ]
        }
      ]
    },
    {
      "cell_type": "code",
      "source": [
        "import pandas as pd\n",
        "import random\n",
        "#generate some random data with noise\n",
        "veracity_data = pd.read_csv('/content/drive/MyDrive/prasadproject.csv', sep =',')\n",
        "veracity_data=[random.choice([1,2,3,None])for _ in range(20)]\n",
        "print(\"veracity data:\",veracity_data)"
      ],
      "metadata": {
        "colab": {
          "base_uri": "https://localhost:8080/"
        },
        "id": "UH6EPBjDH7-N",
        "outputId": "882fe0fb-ca83-4220-80b1-c04c534019a7"
      },
      "execution_count": null,
      "outputs": [
        {
          "output_type": "stream",
          "name": "stdout",
          "text": [
            "veracity data: [3, 2, 1, 3, 1, None, 1, 2, 2, 2, 3, 2, 2, 2, 3, 2, 2, 2, 1, 2]\n"
          ]
        }
      ]
    },
    {
      "cell_type": "code",
      "source": [
        "structured_data = pd.read_csv('/content/drive/MyDrive/prasadproject.csv', sep =',')\n",
        "#structured data\n",
        "print(structured_data)\n",
        "#semi-structured data(JSON)\n",
        "semistructured_data = pd.read_csv('/content/drive/MyDrive/prasadproject.csv', sep =',')\n",
        "print(semistructured_data)\n",
        "#unstructured data(text)\n",
        "unstructured_data=\"This is a sample text document.It can contain any information in free form\""
      ],
      "metadata": {
        "colab": {
          "base_uri": "https://localhost:8080/"
        },
        "id": "SWOebPWqIH2R",
        "outputId": "b3e87007-1b22-47bc-a5ea-006d5b0c7ea5"
      },
      "execution_count": null,
      "outputs": [
        {
          "output_type": "stream",
          "name": "stdout",
          "text": [
            "         id  Gender   Age     Class  Flight Distance  Food and drink  \\\n",
            "0     19556  Female  52.0       Eco            160.0             3.0   \n",
            "1     90035  Female  36.0  Business           2863.0             5.0   \n",
            "2     12360    Male  20.0       Eco            192.0             2.0   \n",
            "3     77959    Male  44.0  Business           3377.0             3.0   \n",
            "4     36875     NaN  49.0       Eco           1182.0             4.0   \n",
            "...     ...     ...   ...       ...              ...             ...   \n",
            "9995  53434  Female  20.0  Business           2288.0             5.0   \n",
            "9996  55197  Female  19.0  Eco Plus           1635.0             1.0   \n",
            "9997  42997  Female  52.0  Business            192.0             3.0   \n",
            "9998  27031    Male  46.0  Eco Plus            867.0             3.0   \n",
            "9999  75613     NaN  67.0       Eco            337.0             1.0   \n",
            "\n",
            "      On-board service  Checkin service  Cleanliness             satisfaction  \n",
            "0                  5.0              2.0          5.0                satisfied  \n",
            "1                  4.0              3.0          5.0                satisfied  \n",
            "2                  4.0              2.0          2.0  neutral or dissatisfied  \n",
            "3                  1.0              3.0          4.0                satisfied  \n",
            "4                  2.0              4.0          4.0                satisfied  \n",
            "...                ...              ...          ...                      ...  \n",
            "9995               3.0              2.0          5.0                satisfied  \n",
            "9996               5.0              5.0          1.0  neutral or dissatisfied  \n",
            "9997               5.0              3.0          3.0  neutral or dissatisfied  \n",
            "9998               4.0              5.0          3.0                satisfied  \n",
            "9999               5.0              3.0          1.0  neutral or dissatisfied  \n",
            "\n",
            "[10000 rows x 10 columns]\n",
            "         id  Gender   Age     Class  Flight Distance  Food and drink  \\\n",
            "0     19556  Female  52.0       Eco            160.0             3.0   \n",
            "1     90035  Female  36.0  Business           2863.0             5.0   \n",
            "2     12360    Male  20.0       Eco            192.0             2.0   \n",
            "3     77959    Male  44.0  Business           3377.0             3.0   \n",
            "4     36875     NaN  49.0       Eco           1182.0             4.0   \n",
            "...     ...     ...   ...       ...              ...             ...   \n",
            "9995  53434  Female  20.0  Business           2288.0             5.0   \n",
            "9996  55197  Female  19.0  Eco Plus           1635.0             1.0   \n",
            "9997  42997  Female  52.0  Business            192.0             3.0   \n",
            "9998  27031    Male  46.0  Eco Plus            867.0             3.0   \n",
            "9999  75613     NaN  67.0       Eco            337.0             1.0   \n",
            "\n",
            "      On-board service  Checkin service  Cleanliness             satisfaction  \n",
            "0                  5.0              2.0          5.0                satisfied  \n",
            "1                  4.0              3.0          5.0                satisfied  \n",
            "2                  4.0              2.0          2.0  neutral or dissatisfied  \n",
            "3                  1.0              3.0          4.0                satisfied  \n",
            "4                  2.0              4.0          4.0                satisfied  \n",
            "...                ...              ...          ...                      ...  \n",
            "9995               3.0              2.0          5.0                satisfied  \n",
            "9996               5.0              5.0          1.0  neutral or dissatisfied  \n",
            "9997               5.0              3.0          3.0  neutral or dissatisfied  \n",
            "9998               4.0              5.0          3.0                satisfied  \n",
            "9999               5.0              3.0          1.0  neutral or dissatisfied  \n",
            "\n",
            "[10000 rows x 10 columns]\n"
          ]
        }
      ]
    }
  ]
}