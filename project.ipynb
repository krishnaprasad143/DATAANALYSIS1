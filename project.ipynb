{
  "nbformat": 4,
  "nbformat_minor": 0,
  "metadata": {
    "colab": {
      "provenance": []
    },
    "kernelspec": {
      "name": "python3",
      "display_name": "Python 3"
    },
    "language_info": {
      "name": "python"
    }
  },
  "cells": [
    {
      "cell_type": "code",
      "execution_count": null,
      "metadata": {
        "id": "g06BCmN4K9Yk"
      },
      "outputs": [],
      "source": [
        "import tensorflow as tf\n",
        "from tensorflow import keras\n",
        "from tensorflow.keras import layers\n",
        "from tensorflow.keras.preprocessing.image import ImageDataGenerator\n",
        "#define image size and batch size\n",
        "IMG_SIZE=224\n",
        "BATCH_SIZE=32"
      ]
    },
    {
      "cell_type": "code",
      "source": [
        "#define data generators for train,validaton and test data sets\n",
        "train_datagen=ImageDataGenerator(\n",
        "    rescale=1./225,\n",
        "    validation_split=0.2)"
      ],
      "metadata": {
        "id": "r1euLvSILkyr"
      },
      "execution_count": null,
      "outputs": []
    },
    {
      "cell_type": "code",
      "source": [
        "train_generator = train_datagen.flow_from_directory('/content/drive/MyDrive/DATASET/train',\n",
        "    target_size=(IMG_SIZE, IMG_SIZE),\n",
        "    batch_size=BATCH_SIZE,\n",
        "    class_mode='binary',\n",
        "    subset='training'\n",
        ")"
      ],
      "metadata": {
        "colab": {
          "base_uri": "https://localhost:8080/"
        },
        "id": "ErZnLJ2-LtV9",
        "outputId": "4fd38e9b-30b3-4c32-a26f-a47502a29911"
      },
      "execution_count": null,
      "outputs": [
        {
          "output_type": "stream",
          "name": "stdout",
          "text": [
            "Found 1185 images belonging to 2 classes.\n"
          ]
        }
      ]
    },
    {
      "cell_type": "code",
      "source": [
        "val_generator = train_datagen.flow_from_directory('/content/drive/MyDrive/DATASET/train',\n",
        "    target_size=(IMG_SIZE, IMG_SIZE),\n",
        "    batch_size=BATCH_SIZE,\n",
        "    class_mode='binary',\n",
        "    subset='validation'\n",
        ")"
      ],
      "metadata": {
        "colab": {
          "base_uri": "https://localhost:8080/"
        },
        "id": "7ySQ63mhMLO2",
        "outputId": "8e1a9787-cdb1-42dd-8a96-87d0d4eedcb9"
      },
      "execution_count": null,
      "outputs": [
        {
          "output_type": "stream",
          "name": "stdout",
          "text": [
            "Found 296 images belonging to 2 classes.\n"
          ]
        }
      ]
    },
    {
      "cell_type": "code",
      "source": [
        "test_datagen = ImageDataGenerator(rescale=1./255)\n",
        "\n",
        "test_generator = test_datagen.flow_from_directory(\n",
        "    '/content/drive/MyDrive/DATASET/test,\n",
        "    target_size=(IMG_SIZE, IMG_SIZE),\n",
        "    batch_size=BATCH_SIZE,\n",
        "    class_mode='binary'\n",
        ")"
      ],
      "metadata": {
        "colab": {
          "base_uri": "https://localhost:8080/",
          "height": 106
        },
        "id": "87L_Wx-PErdA",
        "outputId": "199e2e60-62ff-4d09-e506-23aa1e660bcb"
      },
      "execution_count": null,
      "outputs": [
        {
          "output_type": "error",
          "ename": "SyntaxError",
          "evalue": "unterminated string literal (detected at line 4) (<ipython-input-31-afb01e36c724>, line 4)",
          "traceback": [
            "\u001b[0;36m  File \u001b[0;32m\"<ipython-input-31-afb01e36c724>\"\u001b[0;36m, line \u001b[0;32m4\u001b[0m\n\u001b[0;31m    '/content/drive/MyDrive/DATASET/test,\u001b[0m\n\u001b[0m    ^\u001b[0m\n\u001b[0;31mSyntaxError\u001b[0m\u001b[0;31m:\u001b[0m unterminated string literal (detected at line 4)\n"
          ]
        }
      ]
    },
    {
      "cell_type": "code",
      "source": [
        "# Define the model\n",
        "model=keras.Sequential([\n",
        "    layers.Conv2D(32, (3, 3), activation='relu', input_shape=(IMG_SIZE, IMG_SIZE, 3)),\n",
        "    layers.MaxPooling2D((2, 2)),\n",
        "    layers.Conv2D(64, (3, 3), activation='relu'),\n",
        "    layers.MaxPooling2D((2, 2)),\n",
        "    layers.Conv2D(128, (3, 3), activation='relu'),\n",
        "    layers.MaxPooling2D((2, 2)),\n",
        "    layers.Flatten(),\n",
        "    layers.Dense(128, activation='relu'),\n",
        "    layers.Dense(1, activation='sigmoid')\n",
        "])"
      ],
      "metadata": {
        "id": "Cqt3qBXSMm3a"
      },
      "execution_count": null,
      "outputs": []
    },
    {
      "cell_type": "code",
      "source": [
        "#compile the model\n",
        "model.compile(optimizer='adam',loss='binary_crossentropy',metrics=['accuracy'])"
      ],
      "metadata": {
        "id": "c4LvAQ0DMwZi"
      },
      "execution_count": null,
      "outputs": []
    },
    {
      "cell_type": "code",
      "source": [
        "history=model.fit(train_generator,validation_data=val_generator,epochs=5)\n",
        "model.save(\"model.h5\",\"label.txt\")"
      ],
      "metadata": {
        "colab": {
          "base_uri": "https://localhost:8080/"
        },
        "id": "i0_Q94uYM6jd",
        "outputId": "e20a5261-a5ed-4d7b-df18-a622a58e8a8e"
      },
      "execution_count": null,
      "outputs": [
        {
          "output_type": "stream",
          "name": "stdout",
          "text": [
            "Epoch 1/5\n",
            "38/38 [==============================] - 176s 5s/step - loss: 0.2094 - accuracy: 0.9806 - val_loss: 0.0715 - val_accuracy: 0.9865\n",
            "Epoch 2/5\n",
            "38/38 [==============================] - 172s 5s/step - loss: 0.0788 - accuracy: 0.9865 - val_loss: 0.0637 - val_accuracy: 0.9865\n",
            "Epoch 3/5\n",
            "38/38 [==============================] - 158s 4s/step - loss: 0.0587 - accuracy: 0.9882 - val_loss: 0.0573 - val_accuracy: 0.9865\n",
            "Epoch 4/5\n",
            "38/38 [==============================] - 167s 4s/step - loss: 0.0696 - accuracy: 0.9907 - val_loss: 0.0575 - val_accuracy: 0.9899\n",
            "Epoch 5/5\n",
            "38/38 [==============================] - 163s 4s/step - loss: 0.0481 - accuracy: 0.9907 - val_loss: 0.0436 - val_accuracy: 0.9899\n"
          ]
        }
      ]
    },
    {
      "cell_type": "code",
      "source": [
        "model.save(\"model.h5\",\"label.txt\")"
      ],
      "metadata": {
        "id": "hidKeXxabcnk"
      },
      "execution_count": null,
      "outputs": []
    },
    {
      "cell_type": "code",
      "source": [
        "from tensorflow.keras.models import load_model\n",
        "from tensorflow.keras.preprocessing import image\n",
        "import numpy as np\n",
        "# Load the saved model\n",
        "model = load_model('/content/model.h5')\n",
        "# Load and preprocess the test image\n",
        "test_image_path = '/content/drive/MyDrive/DATASET/train/fully_covered/abhxfatw.jpg'\n",
        "img = image.load_img(test_image_path, target_size=(224, 224))\n",
        "img_array = image.img_to_array(img)\n",
        "img_array = np.expand_dims(img_array, axis=0)  # Add batch dimension\n",
        "img_array /= 255.  # Normalize the pixel values\n",
        "# Make predictions\n",
        "prediction = model.predict(img_array)\n",
        "# Print the prediction\n",
        "if prediction < 0.5:\n",
        "    print(\"Prediction: No tumor (Probability:\", prediction[0][0], \")\")\n",
        "else:\n",
        "    print(\"Prediction: Tumor present (Probability:\", prediction[0][0], \")\")\n"
      ],
      "metadata": {
        "colab": {
          "base_uri": "https://localhost:8080/"
        },
        "id": "S8OL155biO3W",
        "outputId": "5f319978-041f-4dae-d49f-8d9fc6415254"
      },
      "execution_count": null,
      "outputs": [
        {
          "output_type": "stream",
          "name": "stdout",
          "text": [
            "1/1 [==============================] - 0s 109ms/step\n",
            "Prediction: No tumor (Probability: 0.0 )\n"
          ]
        }
      ]
    },
    {
      "cell_type": "code",
      "source": [
        "from tensorflow.keras.models import load_model\n",
        "from tensorflow.keras.preprocessing import image\n",
        "import numpy as np\n",
        "# Load the saved model\n",
        "model = load_model('/content/model.h5')\n",
        "# Load and preprocess the test image\n",
        "test_image_path = ('/content/drive/MyDrive/DATASET/train/fully_covered/abhxfatw.jpg')\n",
        "img = image.load_img(test_image_path, target_size=(224, 224))\n",
        "img_array = image.img_to_array(img)\n",
        "img_array = np.expand_dims(img_array, axis=0)  # Add batch dimension\n",
        "img_array /= 255.  # Normalize the pixel values\n",
        "# Make predictions\n",
        "prediction = model.predict(img_array)\n",
        "# Print the prediction\n",
        "if prediction < 0.5:\n",
        "    print(\"Prediction:face mask not weared(Probability:\", prediction[0][0], \")\")\n",
        "else:\n",
        "    print(\"Prediction:face mask weared(Probability:\", prediction[1][1], \")\")\n"
      ],
      "metadata": {
        "id": "Hh3afRMi34Ji",
        "colab": {
          "base_uri": "https://localhost:8080/"
        },
        "outputId": "78b795e3-7ce6-4393-862e-859fad43bfd4"
      },
      "execution_count": null,
      "outputs": [
        {
          "output_type": "stream",
          "name": "stdout",
          "text": [
            "1/1 [==============================] - 0s 116ms/step\n",
            "Prediction:face mask not weared(Probability: 0.0 )\n"
          ]
        }
      ]
    }
  ]
}